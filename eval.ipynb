{
 "cells": [
  {
   "cell_type": "code",
   "execution_count": 12,
   "metadata": {},
   "outputs": [],
   "source": [
    "from os import listdir\n",
    "import json\n",
    "json_list = listdir(\"/home/litang/LtProject/haiyundan/v2/savejson\")\n",
    "ground_truth = []\n",
    "predict = []\n",
    "for i in json_list:\n",
    "    contrast_file_path = '/home/litang/LtProject/haiyundan/model_mark_json/' + i.split(\".\")[0] +\".json\"\n",
    "    predict_file_path = '/home/litang/LtProject/haiyundan/v2/savejson/' + i.split(\".\")[0] +\".json\"\n",
    "    with open(contrast_file_path) as f:\n",
    "        datag = json.load(f)\n",
    "    # ground_truth = []\n",
    "    for annotation in datag:\n",
    "        ground_truth.append(annotation['label'])\n",
    "    with open(predict_file_path) as f:\n",
    "        datap = json.load(f)\n",
    "    # ground_truth = []\n",
    "    for annotation in datap:\n",
    "        predict.append(annotation['label'][0])\n"
   ]
  },
  {
   "cell_type": "code",
   "execution_count": 1,
   "metadata": {},
   "outputs": [
    {
     "name": "stdout",
     "output_type": "stream",
     "text": [
      "{'precision': 0.7564008778346745, 'recall': 0.7564008778346745, 'f1': 0.7564008778346744, '每个类别': '              precision    recall  f1-score   support\\n\\n           0       0.82      0.77      0.80      4399\\n      HSCODE       0.42      0.79      0.55        14\\nHSCODE-value       0.39      1.00      0.57        13\\n         交货地       1.00      1.00      1.00        26\\n   交货地-value       0.38      0.72      0.49        25\\n          件数       0.73      0.79      0.75       121\\n    件数-value       0.47      0.52      0.49        88\\n          体积       0.77      0.80      0.79       107\\n    体积-value       0.62      0.88      0.72        73\\n        出单方式       1.00      1.00      1.00         2\\n         卸货港       0.70      0.84      0.77        58\\n   卸货港-value       0.41      0.28      0.33        43\\n         发货人       0.90      0.87      0.89       127\\n   发货人-value       0.92      0.85      0.88       456\\n          品名       0.85      0.87      0.86       134\\n    品名-value       0.67      0.59      0.63       221\\n          唛头       0.80      0.91      0.85       107\\n    唛头-value       0.50      0.85      0.63       150\\n          备注       0.00      0.00      0.00        14\\n    备注-value       0.16      0.30      0.21        54\\n  委托公司-value       0.40      0.65      0.49        37\\n      客户委托编码       0.66      0.68      0.67        31\\n客户委托编码-value       0.23      1.00      0.37        11\\n         收货人       0.96      0.87      0.91       120\\n   收货人-value       0.92      0.56      0.70       609\\n         收货地       0.89      0.94      0.92        18\\n   收货地-value       0.33      0.33      0.33         6\\n          毛重       0.79      0.78      0.78       117\\n    毛重-value       0.61      0.89      0.72        64\\n    电话-value       0.00      0.00      0.00         0\\n         目的港       0.93      0.93      0.93        83\\n   目的港-value       0.51      0.69      0.58        48\\n        箱型箱量       0.59      0.50      0.54        20\\n  箱型箱量-value       0.38      0.67      0.48        18\\n          约号       0.33      0.14      0.20         7\\n    约号-value       0.00      0.00      0.00         1\\n          航次       1.00      0.90      0.95        10\\n    航次-value       0.29      0.67      0.40         3\\n         船公司       0.88      0.70      0.78        30\\n   船公司-value       0.31      0.92      0.46        13\\n          船名       1.00      1.00      1.00        13\\n    船名-value       0.33      0.50      0.40         4\\n        货好时间       0.00      0.00      0.00         6\\n  货好时间-value       0.00      0.00      0.00         1\\n  贸易条款-value       0.05      1.00      0.10         1\\n         起运港       0.76      0.94      0.84        81\\n   起运港-value       0.59      0.99      0.74        77\\n        运费条款       0.38      0.59      0.46        37\\n  运费条款-value       0.61      0.87      0.71        52\\n        运输条款       0.48      0.56      0.51        18\\n  运输条款-value       0.47      0.75      0.57        36\\n         通知人       0.88      0.80      0.84       120\\n   通知人-value       0.62      0.75      0.68       216\\n        预配船期       0.88      0.62      0.73        47\\n  预配船期-value       0.22      0.67      0.33        15\\n\\n   micro avg       0.76      0.76      0.76      8202\\n   macro avg       0.56      0.68      0.59      8202\\nweighted avg       0.79      0.76      0.76      8202\\n'}\n"
     ]
    },
    {
     "name": "stderr",
     "output_type": "stream",
     "text": [
      "/home/litang/LtProject/virtualenvs/layoutLMV2/lib/python3.8/site-packages/seqeval/metrics/v1.py:57: UndefinedMetricWarning: Precision and F-score are ill-defined and being set to 0.0 in labels with no predicted samples. Use `zero_division` parameter to control this behavior.\n",
      "  _warn_prf(average, modifier, msg_start, len(result))\n",
      "/home/litang/LtProject/virtualenvs/layoutLMV2/lib/python3.8/site-packages/seqeval/metrics/v1.py:57: UndefinedMetricWarning: Recall and F-score are ill-defined and being set to 0.0 in labels with no true samples. Use `zero_division` parameter to control this behavior.\n",
      "  _warn_prf(average, modifier, msg_start, len(result))\n"
     ]
    }
   ],
   "source": [
    "from os import listdir\n",
    "import json\n",
    "json_list = listdir(\"/home/litang/LtProject/haiyundan/v2/savejson\")\n",
    "ground_truth = []\n",
    "predict = []\n",
    "for i in json_list:\n",
    "    contrast_file_path = '/home/litang/LtProject/haiyundan/model_mark_json/' + i.split(\".\")[0] +\".json\"\n",
    "    predict_file_path = '/home/litang/LtProject/haiyundan/v2/savejson/' + i.split(\".\")[0] +\".json\"\n",
    "    with open(contrast_file_path) as f:\n",
    "        datag = json.load(f)\n",
    "    # ground_truth = []\n",
    "    for annotation in datag:\n",
    "        ground_truth.append(annotation['label'])\n",
    "    with open(predict_file_path) as f:\n",
    "        datap = json.load(f)\n",
    "    # ground_truth = []\n",
    "    for annotation in datap:\n",
    "        predict.append(annotation['label'][0])\n",
    "from custon_datasetwithoutpad import idx2label,label2idx, get_needed_key\n",
    "value_list = [value + \"-value\" for value in list(get_needed_key().keys())]\n",
    "allclass = list(get_needed_key().keys()) +['0'] + value_list\n",
    "need_remove_idx = []\n",
    "for i, value in enumerate(ground_truth):\n",
    "    if value not in allclass:\n",
    "        need_remove_idx.append(i)\n",
    "for i in range(len(need_remove_idx)):\n",
    "    del ground_truth[need_remove_idx[len(need_remove_idx)-i-1]]\n",
    "    del predict[need_remove_idx[len(need_remove_idx)-i-1]]\n",
    "for i, value in enumerate(ground_truth):\n",
    "    ground_truth[i] = 'B-' + value\n",
    "for i, value in enumerate(predict):\n",
    "    predict[i] = 'B-' + value\n",
    "predict= [predict]\n",
    "ground_truth=[ground_truth]\n",
    "from seqeval.metrics import (\n",
    "    classification_report,\n",
    "    f1_score,\n",
    "    precision_score,\n",
    "    recall_score,\n",
    ")\n",
    "results = {\n",
    "        \"precision\": precision_score(predict, ground_truth),\n",
    "        \"recall\": recall_score(predict, ground_truth),\n",
    "        \"f1\": f1_score(predict, ground_truth),\n",
    "        \"每个类别\":classification_report(predict, ground_truth)\n",
    "    }\n",
    "print(results)"
   ]
  },
  {
   "cell_type": "code",
   "execution_count": 5,
   "metadata": {},
   "outputs": [
    {
     "name": "stdout",
     "output_type": "stream",
     "text": [
      "'precision': 0.7564008778346745, 'recall': 0.7564008778346745, 'f1': 0.7564008778346744, '每个类别': '              precision    recall  f1-score   support\n",
      "\n",
      "           0       0.82      0.77      0.80      4399\n",
      "      HSCODE       0.42      0.79      0.55        14\n",
      "HSCODE-value       0.39      1.00      0.57        13\n",
      "         交货地       1.00      1.00      1.00        26\n",
      "   交货地-value       0.38      0.72      0.49        25\n",
      "          件数       0.73      0.79      0.75       121\n",
      "    件数-value       0.47      0.52      0.49        88\n",
      "          体积       0.77      0.80      0.79       107\n",
      "    体积-value       0.62      0.88      0.72        73\n",
      "        出单方式       1.00      1.00      1.00         2\n",
      "         卸货港       0.70      0.84      0.77        58\n",
      "   卸货港-value       0.41      0.28      0.33        43\n",
      "         发货人       0.90      0.87      0.89       127\n",
      "   发货人-value       0.92      0.85      0.88       456\n",
      "          品名       0.85      0.87      0.86       134\n",
      "    品名-value       0.67      0.59      0.63       221\n",
      "          唛头       0.80      0.91      0.85       107\n",
      "    唛头-value       0.50      0.85      0.63       150\n",
      "          备注       0.00      0.00      0.00        14\n",
      "    备注-value       0.16      0.30      0.21        54\n",
      "  委托公司-value       0.40      0.65      0.49        37\n",
      "      客户委托编码       0.66      0.68      0.67        31\n",
      "客户委托编码-value       0.23      1.00      0.37        11\n",
      "         收货人       0.96      0.87      0.91       120\n",
      "   收货人-value       0.92      0.56      0.70       609\n",
      "         收货地       0.89      0.94      0.92        18\n",
      "   收货地-value       0.33      0.33      0.33         6\n",
      "          毛重       0.79      0.78      0.78       117\n",
      "    毛重-value       0.61      0.89      0.72        64\n",
      "    电话-value       0.00      0.00      0.00         0\n",
      "         目的港       0.93      0.93      0.93        83\n",
      "   目的港-value       0.51      0.69      0.58        48\n",
      "        箱型箱量       0.59      0.50      0.54        20\n",
      "  箱型箱量-value       0.38      0.67      0.48        18\n",
      "          约号       0.33      0.14      0.20         7\n",
      "    约号-value       0.00      0.00      0.00         1\n",
      "          航次       1.00      0.90      0.95        10\n",
      "    航次-value       0.29      0.67      0.40         3\n",
      "         船公司       0.88      0.70      0.78        30\n",
      "   船公司-value       0.31      0.92      0.46        13\n",
      "          船名       1.00      1.00      1.00        13\n",
      "    船名-value       0.33      0.50      0.40         4\n",
      "        货好时间       0.00      0.00      0.00         6\n",
      "  货好时间-value       0.00      0.00      0.00         1\n",
      "  贸易条款-value       0.05      1.00      0.10         1\n",
      "         起运港       0.76      0.94      0.84        81\n",
      "   起运港-value       0.59      0.99      0.74        77\n",
      "        运费条款       0.38      0.59      0.46        37\n",
      "  运费条款-value       0.61      0.87      0.71        52\n",
      "        运输条款       0.48      0.56      0.51        18\n",
      "  运输条款-value       0.47      0.75      0.57        36\n",
      "         通知人       0.88      0.80      0.84       120\n",
      "   通知人-value       0.62      0.75      0.68       216\n",
      "        预配船期       0.88      0.62      0.73        47\n",
      "  预配船期-value       0.22      0.67      0.33        15\n",
      "\n",
      "   micro avg       0.76      0.76      0.76      8202\n",
      "   macro avg       0.56      0.68      0.59      8202\n",
      "weighted avg       0.79      0.76      0.76      8202\n",
      "\n"
     ]
    }
   ],
   "source": [
    "print(\"'precision': 0.7564008778346745, 'recall': 0.7564008778346745, 'f1': 0.7564008778346744, '每个类别': '              precision    recall  f1-score   support\\n\\n           0       0.82      0.77      0.80      4399\\n      HSCODE       0.42      0.79      0.55        14\\nHSCODE-value       0.39      1.00      0.57        13\\n         交货地       1.00      1.00      1.00        26\\n   交货地-value       0.38      0.72      0.49        25\\n          件数       0.73      0.79      0.75       121\\n    件数-value       0.47      0.52      0.49        88\\n          体积       0.77      0.80      0.79       107\\n    体积-value       0.62      0.88      0.72        73\\n        出单方式       1.00      1.00      1.00         2\\n         卸货港       0.70      0.84      0.77        58\\n   卸货港-value       0.41      0.28      0.33        43\\n         发货人       0.90      0.87      0.89       127\\n   发货人-value       0.92      0.85      0.88       456\\n          品名       0.85      0.87      0.86       134\\n    品名-value       0.67      0.59      0.63       221\\n          唛头       0.80      0.91      0.85       107\\n    唛头-value       0.50      0.85      0.63       150\\n          备注       0.00      0.00      0.00        14\\n    备注-value       0.16      0.30      0.21        54\\n  委托公司-value       0.40      0.65      0.49        37\\n      客户委托编码       0.66      0.68      0.67        31\\n客户委托编码-value       0.23      1.00      0.37        11\\n         收货人       0.96      0.87      0.91       120\\n   收货人-value       0.92      0.56      0.70       609\\n         收货地       0.89      0.94      0.92        18\\n   收货地-value       0.33      0.33      0.33         6\\n          毛重       0.79      0.78      0.78       117\\n    毛重-value       0.61      0.89      0.72        64\\n    电话-value       0.00      0.00      0.00         0\\n         目的港       0.93      0.93      0.93        83\\n   目的港-value       0.51      0.69      0.58        48\\n        箱型箱量       0.59      0.50      0.54        20\\n  箱型箱量-value       0.38      0.67      0.48        18\\n          约号       0.33      0.14      0.20         7\\n    约号-value       0.00      0.00      0.00         1\\n          航次       1.00      0.90      0.95        10\\n    航次-value       0.29      0.67      0.40         3\\n         船公司       0.88      0.70      0.78        30\\n   船公司-value       0.31      0.92      0.46        13\\n          船名       1.00      1.00      1.00        13\\n    船名-value       0.33      0.50      0.40         4\\n        货好时间       0.00      0.00      0.00         6\\n  货好时间-value       0.00      0.00      0.00         1\\n  贸易条款-value       0.05      1.00      0.10         1\\n         起运港       0.76      0.94      0.84        81\\n   起运港-value       0.59      0.99      0.74        77\\n        运费条款       0.38      0.59      0.46        37\\n  运费条款-value       0.61      0.87      0.71        52\\n        运输条款       0.48      0.56      0.51        18\\n  运输条款-value       0.47      0.75      0.57        36\\n         通知人       0.88      0.80      0.84       120\\n   通知人-value       0.62      0.75      0.68       216\\n        预配船期       0.88      0.62      0.73        47\\n  预配船期-value       0.22      0.67      0.33        15\\n\\n   micro avg       0.76      0.76      0.76      8202\\n   macro avg       0.56      0.68      0.59      8202\\nweighted avg       0.79      0.76      0.76      8202\\n\")"
   ]
  }
 ],
 "metadata": {
  "interpreter": {
   "hash": "5c650f93ac7cfab09dbcd698ee4e6d1ef8271ef6481a5006c1c23eb34dbfccbc"
  },
  "kernelspec": {
   "display_name": "Python 3.8.10 ('layoutLMV2': venv)",
   "language": "python",
   "name": "python3"
  },
  "language_info": {
   "codemirror_mode": {
    "name": "ipython",
    "version": 3
   },
   "file_extension": ".py",
   "mimetype": "text/x-python",
   "name": "python",
   "nbconvert_exporter": "python",
   "pygments_lexer": "ipython3",
   "version": "3.8.10"
  },
  "orig_nbformat": 4
 },
 "nbformat": 4,
 "nbformat_minor": 2
}
