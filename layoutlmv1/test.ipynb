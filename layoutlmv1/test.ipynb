{
 "cells": [
  {
   "cell_type": "code",
   "execution_count": 1,
   "metadata": {},
   "outputs": [],
   "source": [
    "from random import randint\n",
    "d={x:randint(60,99) for x in \"abcdefg\"}"
   ]
  },
  {
   "cell_type": "code",
   "execution_count": 2,
   "metadata": {},
   "outputs": [
    {
     "data": {
      "text/plain": [
       "{'a': 67, 'b': 61, 'c': 77, 'd': 66, 'e': 76, 'f': 70, 'g': 90}"
      ]
     },
     "execution_count": 2,
     "metadata": {},
     "output_type": "execute_result"
    }
   ],
   "source": [
    "d"
   ]
  },
  {
   "cell_type": "code",
   "execution_count": 3,
   "metadata": {},
   "outputs": [],
   "source": [
    "import collections"
   ]
  },
  {
   "cell_type": "code",
   "execution_count": 4,
   "metadata": {},
   "outputs": [
    {
     "name": "stdout",
     "output_type": "stream",
     "text": [
      "[('g', 90), ('c', 77), ('e', 76), ('f', 70), ('a', 67), ('d', 66), ('b', 61)]\n"
     ]
    }
   ],
   "source": [
    "c=collections.Counter(d).most_common() #返回一个列表，按照dict的value从大到小排序\n",
    "print(c)"
   ]
  },
  {
   "cell_type": "code",
   "execution_count": 5,
   "metadata": {},
   "outputs": [
    {
     "name": "stdout",
     "output_type": "stream",
     "text": [
      "g\n"
     ]
    }
   ],
   "source": [
    "print(c[0][0])"
   ]
  }
 ],
 "metadata": {
  "interpreter": {
   "hash": "5c650f93ac7cfab09dbcd698ee4e6d1ef8271ef6481a5006c1c23eb34dbfccbc"
  },
  "kernelspec": {
   "display_name": "Python 3.8.10 ('layoutLMV2': venv)",
   "language": "python",
   "name": "python3"
  },
  "language_info": {
   "codemirror_mode": {
    "name": "ipython",
    "version": 3
   },
   "file_extension": ".py",
   "mimetype": "text/x-python",
   "name": "python",
   "nbconvert_exporter": "python",
   "pygments_lexer": "ipython3",
   "version": "3.8.10"
  },
  "orig_nbformat": 4
 },
 "nbformat": 4,
 "nbformat_minor": 2
}
