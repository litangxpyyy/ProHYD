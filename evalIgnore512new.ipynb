{
 "cells": [
  {
   "cell_type": "code",
   "execution_count": 1,
   "metadata": {},
   "outputs": [],
   "source": [
    "from os import listdir\n",
    "import json\n",
    "json_list = listdir(\"/home/litang/LtProject/haiyundan/newest/savejson\")\n",
    "ground_truth = []\n",
    "predict = []\n",
    "for i in json_list:\n",
    "    contrast_file_path = '/home/litang/LtProject/newpreddata/tru/' + i.split(\".\")[0] +\".json\"\n",
    "    predict_file_path = '/home/litang/LtProject/haiyundan/newest/savejson/' + i.split(\".\")[0] +\".json\"\n",
    "    count = 0 \n",
    "    with open(predict_file_path) as f:\n",
    "        datap = json.load(f)\n",
    "    # ground_truth = []\n",
    "    for annotation in datap:\n",
    "        if len(annotation['label']) != 0:\n",
    "            predict.append(annotation['label'][0])\n",
    "            count = count + 1\n",
    "    with open(contrast_file_path) as f:\n",
    "        datag = json.load(f)\n",
    "    # ground_truth = []\n",
    "    for annotation in datag:\n",
    "        if count > 0:\n",
    "            ground_truth.append(annotation['label'])\n",
    "            count = count - 1\n",
    "    \n"
   ]
  },
  {
   "cell_type": "code",
   "execution_count": 1,
   "metadata": {},
   "outputs": [
    {
     "data": {
      "text/plain": [
       "0"
      ]
     },
     "execution_count": 1,
     "metadata": {},
     "output_type": "execute_result"
    }
   ],
   "source": [
    "len([])"
   ]
  },
  {
   "cell_type": "code",
   "execution_count": 2,
   "metadata": {},
   "outputs": [
    {
     "name": "stderr",
     "output_type": "stream",
     "text": [
      "/home/litang/LtProject/virtualenvs/layoutLMV2/lib/python3.8/site-packages/seqeval/metrics/v1.py:57: UndefinedMetricWarning: Precision and F-score are ill-defined and being set to 0.0 in labels with no predicted samples. Use `zero_division` parameter to control this behavior.\n",
      "  _warn_prf(average, modifier, msg_start, len(result))\n",
      "/home/litang/LtProject/virtualenvs/layoutLMV2/lib/python3.8/site-packages/seqeval/metrics/v1.py:57: UndefinedMetricWarning: Recall and F-score are ill-defined and being set to 0.0 in labels with no true samples. Use `zero_division` parameter to control this behavior.\n",
      "  _warn_prf(average, modifier, msg_start, len(result))\n"
     ]
    },
    {
     "name": "stdout",
     "output_type": "stream",
     "text": [
      "{'precision': 0.7756669069935112, 'recall': 0.7756669069935112, 'f1': 0.7756669069935112, '每个类别': '              precision    recall  f1-score   support\\n\\n           0       0.72      0.83      0.77     11114\\n      HSCODE       0.00      0.00      0.00        82\\nHSCODE-value       0.70      0.57      0.63        79\\n         交货地       1.00      0.87      0.93       119\\n   交货地-value       0.69      0.69      0.69        91\\n          件数       0.86      0.78      0.82       479\\n    件数-value       0.80      0.62      0.70       409\\n          体积       0.93      0.79      0.85       499\\n    体积-value       0.86      0.82      0.84       335\\n        出单方式       0.00      0.00      0.00         4\\n  出单方式-value       0.00      0.00      0.00         9\\n         卸货港       0.95      0.80      0.87       225\\n   卸货港-value       0.84      0.84      0.84       164\\n         发货人       0.92      0.87      0.89       492\\n   发货人-value       0.95      0.82      0.88      1819\\n          品名       0.92      0.86      0.89       518\\n    品名-value       0.86      0.68      0.76      1095\\n          唛头       0.96      0.86      0.91       502\\n    唛头-value       0.83      0.80      0.81       604\\n          备注       0.00      0.00      0.00        69\\n    备注-value       0.19      0.24      0.21       285\\n  委托公司-value       0.59      0.80      0.68       169\\n      客户委托编码       0.65      0.69      0.67       149\\n客户委托编码-value       0.26      0.92      0.41        59\\n         收货人       0.94      0.91      0.92       447\\n   收货人-value       0.94      0.65      0.77      2595\\n         收货地       0.91      0.95      0.93        65\\n   收货地-value       0.61      0.69      0.65        16\\n          毛重       0.88      0.75      0.81       541\\n    毛重-value       0.79      0.85      0.82       314\\n    电话-value       0.00      0.00      0.00         0\\n         目的港       0.95      0.90      0.93       351\\n   目的港-value       0.68      0.79      0.73       224\\n        箱型箱量       0.62      0.47      0.53       111\\n  箱型箱量-value       0.44      0.68      0.54        79\\n          约号       0.00      0.00      0.00        28\\n    约号-value       0.00      0.00      0.00         5\\n          航次       0.90      0.88      0.89        42\\n    航次-value       0.29      0.46      0.35        13\\n         船公司       0.94      0.74      0.83       113\\n   船公司-value       0.19      0.67      0.29        49\\n          船名       0.91      0.70      0.79        71\\n    船名-value       0.27      0.35      0.30        20\\n        货好时间       0.00      0.00      0.00        23\\n  货好时间-value       0.00      0.00      0.00         3\\n  贸易条款-value       0.11      1.00      0.19         2\\n         起运港       0.93      0.85      0.89       370\\n   起运港-value       0.86      0.93      0.89       323\\n        运费条款       0.72      0.60      0.65       226\\n  运费条款-value       0.83      0.82      0.83       269\\n        运输条款       0.75      0.69      0.72        68\\n  运输条款-value       0.53      0.73      0.62       135\\n         通知人       0.96      0.85      0.90       460\\n   通知人-value       0.85      0.68      0.75      1086\\n        预配船期       0.75      0.66      0.70       257\\n  预配船期-value       0.22      0.78      0.34        64\\n\\n   micro avg       0.78      0.78      0.78     27740\\n   macro avg       0.61      0.63      0.60     27740\\nweighted avg       0.80      0.78      0.78     27740\\n'}\n"
     ]
    }
   ],
   "source": [
    "from os import listdir\n",
    "import json\n",
    "json_list = listdir(\"/home/litang/LtProject/haiyundan/newest/savejson\")\n",
    "ground_truth = []\n",
    "predict = []\n",
    "for i in json_list:\n",
    "    contrast_file_path = '/home/litang/LtProject/newpreddata/tru/' + i.split(\".\")[0] +\".json\"\n",
    "    predict_file_path = '/home/litang/LtProject/haiyundan/newest/savejson/' + i.split(\".\")[0] +\".json\"\n",
    "    count = 0 \n",
    "    with open(predict_file_path) as f:\n",
    "        datap = json.load(f)\n",
    "    # ground_truth = []\n",
    "    for annotation in datap:\n",
    "        if len(annotation['label']) != 0:\n",
    "            predict.append(annotation['label'][0])\n",
    "            count = count + 1\n",
    "    with open(contrast_file_path) as f:\n",
    "        datag = json.load(f)\n",
    "    # ground_truth = []\n",
    "    for annotation in datag:\n",
    "        if count > 0:\n",
    "            ground_truth.append(annotation['label'])\n",
    "            count = count - 1\n",
    "from custon_datasetwithoutpad import idx2label,label2idx, get_needed_key\n",
    "value_list = [value + \"-value\" for value in list(get_needed_key().keys())]\n",
    "allclass = list(get_needed_key().keys()) +['0'] + value_list\n",
    "need_remove_idx = []\n",
    "for i, value in enumerate(ground_truth):\n",
    "    if value not in allclass:\n",
    "        need_remove_idx.append(i)\n",
    "for i in range(len(need_remove_idx)):\n",
    "    del ground_truth[need_remove_idx[len(need_remove_idx)-i-1]]\n",
    "    del predict[need_remove_idx[len(need_remove_idx)-i-1]]\n",
    "for i, value in enumerate(ground_truth):\n",
    "    ground_truth[i] = 'B-' + value\n",
    "for i, value in enumerate(predict):\n",
    "    predict[i] = 'B-' + value\n",
    "predict= [predict]\n",
    "ground_truth=[ground_truth]\n",
    "from seqeval.metrics import (\n",
    "    classification_report,\n",
    "    f1_score,\n",
    "    precision_score,\n",
    "    recall_score,\n",
    ")\n",
    "results = {\n",
    "        \"precision\": precision_score(predict, ground_truth),\n",
    "        \"recall\": recall_score(predict, ground_truth),\n",
    "        \"f1\": f1_score(predict, ground_truth),\n",
    "        \"每个类别\":classification_report(predict, ground_truth)\n",
    "    }\n",
    "print(results)"
   ]
  },
  {
   "cell_type": "code",
   "execution_count": 3,
   "metadata": {},
   "outputs": [
    {
     "name": "stdout",
     "output_type": "stream",
     "text": [
      "'precision': 0.7756669069935112, 'recall': 0.7756669069935112, 'f1': 0.7756669069935112, '每个类别': '              precision    recall  f1-score   support\n",
      "\n",
      "           0       0.72      0.83      0.77     11114\n",
      "      HSCODE       0.00      0.00      0.00        82\n",
      "HSCODE-value       0.70      0.57      0.63        79\n",
      "         交货地       1.00      0.87      0.93       119\n",
      "   交货地-value       0.69      0.69      0.69        91\n",
      "          件数       0.86      0.78      0.82       479\n",
      "    件数-value       0.80      0.62      0.70       409\n",
      "          体积       0.93      0.79      0.85       499\n",
      "    体积-value       0.86      0.82      0.84       335\n",
      "        出单方式       0.00      0.00      0.00         4\n",
      "  出单方式-value       0.00      0.00      0.00         9\n",
      "         卸货港       0.95      0.80      0.87       225\n",
      "   卸货港-value       0.84      0.84      0.84       164\n",
      "         发货人       0.92      0.87      0.89       492\n",
      "   发货人-value       0.95      0.82      0.88      1819\n",
      "          品名       0.92      0.86      0.89       518\n",
      "    品名-value       0.86      0.68      0.76      1095\n",
      "          唛头       0.96      0.86      0.91       502\n",
      "    唛头-value       0.83      0.80      0.81       604\n",
      "          备注       0.00      0.00      0.00        69\n",
      "    备注-value       0.19      0.24      0.21       285\n",
      "  委托公司-value       0.59      0.80      0.68       169\n",
      "      客户委托编码       0.65      0.69      0.67       149\n",
      "客户委托编码-value       0.26      0.92      0.41        59\n",
      "         收货人       0.94      0.91      0.92       447\n",
      "   收货人-value       0.94      0.65      0.77      2595\n",
      "         收货地       0.91      0.95      0.93        65\n",
      "   收货地-value       0.61      0.69      0.65        16\n",
      "          毛重       0.88      0.75      0.81       541\n",
      "    毛重-value       0.79      0.85      0.82       314\n",
      "    电话-value       0.00      0.00      0.00         0\n",
      "         目的港       0.95      0.90      0.93       351\n",
      "   目的港-value       0.68      0.79      0.73       224\n",
      "        箱型箱量       0.62      0.47      0.53       111\n",
      "  箱型箱量-value       0.44      0.68      0.54        79\n",
      "          约号       0.00      0.00      0.00        28\n",
      "    约号-value       0.00      0.00      0.00         5\n",
      "          航次       0.90      0.88      0.89        42\n",
      "    航次-value       0.29      0.46      0.35        13\n",
      "         船公司       0.94      0.74      0.83       113\n",
      "   船公司-value       0.19      0.67      0.29        49\n",
      "          船名       0.91      0.70      0.79        71\n",
      "    船名-value       0.27      0.35      0.30        20\n",
      "        货好时间       0.00      0.00      0.00        23\n",
      "  货好时间-value       0.00      0.00      0.00         3\n",
      "  贸易条款-value       0.11      1.00      0.19         2\n",
      "         起运港       0.93      0.85      0.89       370\n",
      "   起运港-value       0.86      0.93      0.89       323\n",
      "        运费条款       0.72      0.60      0.65       226\n",
      "  运费条款-value       0.83      0.82      0.83       269\n",
      "        运输条款       0.75      0.69      0.72        68\n",
      "  运输条款-value       0.53      0.73      0.62       135\n",
      "         通知人       0.96      0.85      0.90       460\n",
      "   通知人-value       0.85      0.68      0.75      1086\n",
      "        预配船期       0.75      0.66      0.70       257\n",
      "  预配船期-value       0.22      0.78      0.34        64\n",
      "\n",
      "   micro avg       0.78      0.78      0.78     27740\n",
      "   macro avg       0.61      0.63      0.60     27740\n",
      "weighted avg       0.80      0.78      0.78     27740\n",
      "'\n"
     ]
    }
   ],
   "source": [
    "print(\"'precision': 0.7756669069935112, 'recall': 0.7756669069935112, 'f1': 0.7756669069935112, '每个类别': '              precision    recall  f1-score   support\\n\\n           0       0.72      0.83      0.77     11114\\n      HSCODE       0.00      0.00      0.00        82\\nHSCODE-value       0.70      0.57      0.63        79\\n         交货地       1.00      0.87      0.93       119\\n   交货地-value       0.69      0.69      0.69        91\\n          件数       0.86      0.78      0.82       479\\n    件数-value       0.80      0.62      0.70       409\\n          体积       0.93      0.79      0.85       499\\n    体积-value       0.86      0.82      0.84       335\\n        出单方式       0.00      0.00      0.00         4\\n  出单方式-value       0.00      0.00      0.00         9\\n         卸货港       0.95      0.80      0.87       225\\n   卸货港-value       0.84      0.84      0.84       164\\n         发货人       0.92      0.87      0.89       492\\n   发货人-value       0.95      0.82      0.88      1819\\n          品名       0.92      0.86      0.89       518\\n    品名-value       0.86      0.68      0.76      1095\\n          唛头       0.96      0.86      0.91       502\\n    唛头-value       0.83      0.80      0.81       604\\n          备注       0.00      0.00      0.00        69\\n    备注-value       0.19      0.24      0.21       285\\n  委托公司-value       0.59      0.80      0.68       169\\n      客户委托编码       0.65      0.69      0.67       149\\n客户委托编码-value       0.26      0.92      0.41        59\\n         收货人       0.94      0.91      0.92       447\\n   收货人-value       0.94      0.65      0.77      2595\\n         收货地       0.91      0.95      0.93        65\\n   收货地-value       0.61      0.69      0.65        16\\n          毛重       0.88      0.75      0.81       541\\n    毛重-value       0.79      0.85      0.82       314\\n    电话-value       0.00      0.00      0.00         0\\n         目的港       0.95      0.90      0.93       351\\n   目的港-value       0.68      0.79      0.73       224\\n        箱型箱量       0.62      0.47      0.53       111\\n  箱型箱量-value       0.44      0.68      0.54        79\\n          约号       0.00      0.00      0.00        28\\n    约号-value       0.00      0.00      0.00         5\\n          航次       0.90      0.88      0.89        42\\n    航次-value       0.29      0.46      0.35        13\\n         船公司       0.94      0.74      0.83       113\\n   船公司-value       0.19      0.67      0.29        49\\n          船名       0.91      0.70      0.79        71\\n    船名-value       0.27      0.35      0.30        20\\n        货好时间       0.00      0.00      0.00        23\\n  货好时间-value       0.00      0.00      0.00         3\\n  贸易条款-value       0.11      1.00      0.19         2\\n         起运港       0.93      0.85      0.89       370\\n   起运港-value       0.86      0.93      0.89       323\\n        运费条款       0.72      0.60      0.65       226\\n  运费条款-value       0.83      0.82      0.83       269\\n        运输条款       0.75      0.69      0.72        68\\n  运输条款-value       0.53      0.73      0.62       135\\n         通知人       0.96      0.85      0.90       460\\n   通知人-value       0.85      0.68      0.75      1086\\n        预配船期       0.75      0.66      0.70       257\\n  预配船期-value       0.22      0.78      0.34        64\\n\\n   micro avg       0.78      0.78      0.78     27740\\n   macro avg       0.61      0.63      0.60     27740\\nweighted avg       0.80      0.78      0.78     27740\\n'\")"
   ]
  }
 ],
 "metadata": {
  "interpreter": {
   "hash": "5c650f93ac7cfab09dbcd698ee4e6d1ef8271ef6481a5006c1c23eb34dbfccbc"
  },
  "kernelspec": {
   "display_name": "Python 3.8.10 ('layoutLMV2': venv)",
   "language": "python",
   "name": "python3"
  },
  "language_info": {
   "codemirror_mode": {
    "name": "ipython",
    "version": 3
   },
   "file_extension": ".py",
   "mimetype": "text/x-python",
   "name": "python",
   "nbconvert_exporter": "python",
   "pygments_lexer": "ipython3",
   "version": "3.8.10"
  },
  "orig_nbformat": 4
 },
 "nbformat": 4,
 "nbformat_minor": 2
}
